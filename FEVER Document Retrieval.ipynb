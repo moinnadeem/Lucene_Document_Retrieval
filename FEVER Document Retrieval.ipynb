{
 "cells": [
  {
   "cell_type": "markdown",
   "metadata": {},
   "source": [
    "# FEVER Document Retrieval"
   ]
  },
  {
   "cell_type": "markdown",
   "metadata": {},
   "source": [
    "**Purpose**: the purpose of this notebook is to develop a baseline approach for scoring document retrieval on the FEVER dataset with Apache Lucene.\n",
    "\n",
    "**Input**: This document requires the Lucene index, and JSON files to run."
   ]
  },
  {
   "cell_type": "markdown",
   "metadata": {},
   "source": [
    "## Setting up Lucene Query"
   ]
  },
  {
   "cell_type": "code",
   "execution_count": 78,
   "metadata": {},
   "outputs": [],
   "source": [
    "import utils\n",
    "import pickle\n",
    "from tqdm import tqdm_notebook\n",
    "from joblib import Parallel, delayed\n",
    "from multiprocessing import cpu_count\n",
    "import numpy as np"
   ]
  },
  {
   "cell_type": "code",
   "execution_count": 2,
   "metadata": {},
   "outputs": [
    {
     "name": "stdout",
     "output_type": "stream",
     "text": [
      "Num Distinct Claims 109810\n",
      "Num Data Points 125051\n"
     ]
    }
   ],
   "source": [
    "claims, labels, article_list, claim_set, claim_to_article = utils.extract_fever_jsonl_data(\"../train.jsonl\")"
   ]
  },
  {
   "cell_type": "code",
   "execution_count": 32,
   "metadata": {},
   "outputs": [],
   "source": [
    "import subprocess\n",
    "import string\n",
    "\n",
    "def query_lucene(c):\n",
    "    # standard query: \n",
    "    # java -cp CLASSPATH org.apache.lucene.demo.SearchFiles -query \"Loki is the dad of Hel.\"\n",
    "    \n",
    "    # replace the following classpath with your local Lucene instance\n",
    "    classpath = \"/home/moinnadeem/Documents/UROP/lucene-7.4.0/demo/lucene-demo-7.4.0.jar\"\n",
    "    classpath += \":/home/moinnadeem/Documents/UROP/lucene-7.4.0/core/lucene-core-7.4.0.jar\"\n",
    "    classpath += \":/home/moinnadeem/Documents/UROP/lucene-7.4.0/queryparser/lucene-queryparser-7.4.0.jar\"\n",
    "    \n",
    "    c = c.translate(str.maketrans(string.punctuation, ' '*len(string.punctuation)))\n",
    "    # replace the following with the location of your index\n",
    "    indexDir = \"/home/moinnadeem/Documents/UROP/wiki-pages/index\"\n",
    "    \n",
    "    \n",
    "    return subprocess.check_output([\"java\", \"-cp\", classpath, \"org.apache.lucene.demo.SearchFiles\", \"-index\", indexDir, \"-query\", c]).decode(\"utf-8\").split(\"\\n\")\n",
    "\n",
    "def process_lucene_output(output):\n",
    "    assert len(output)==13\n",
    "    \n",
    "    filenames = [o.split(\"/\")[-1].split(\".txt\")[0] for o in output[2:-1]]\n",
    "    return list(map(utils.preprocess_article_name, filenames))\n",
    "\n",
    "def calculate_precision(retrieved, relevant, k=None):\n",
    "    if k==None:\n",
    "        k = len(retrieved)\n",
    "    return len(set(retrieved[:k]).intersection(set(relevant))) / len(set(retrieved))\n",
    "\n",
    "def calculate_recall(retrieved, relevant, k=None):\n",
    "    if k==None:\n",
    "        k = len(retrieved)\n",
    "    return len(set(retrieved[:k]).intersection(set(relevant))) / len(set(relevant))"
   ]
  },
  {
   "cell_type": "code",
   "execution_count": 33,
   "metadata": {},
   "outputs": [],
   "source": [
    "output = query_lucene(claims[0])\n",
    "retrieved = process_lucene_output(output)\n",
    "relevant = claim_to_article[claims[0]]"
   ]
  },
  {
   "cell_type": "code",
   "execution_count": 34,
   "metadata": {},
   "outputs": [
    {
     "data": {
      "text/plain": [
       "'nikolaj coster waldau worked with the fox broadcasting company '"
      ]
     },
     "execution_count": 34,
     "metadata": {},
     "output_type": "execute_result"
    }
   ],
   "source": [
    "utils.preprocess_article_name(claims[0])"
   ]
  },
  {
   "cell_type": "code",
   "execution_count": 35,
   "metadata": {},
   "outputs": [
    {
     "data": {
      "text/plain": [
       "['Searching for: nikolaj coster waldau worked fox broadcasting company',\n",
       " '316945 total matching documents',\n",
       " '1. /home/moinnadeem/Documents/UROP/wiki-pages/processed_pages/Ved_verdens_ende.txt',\n",
       " '2. /home/moinnadeem/Documents/UROP/wiki-pages/processed_pages/Nukaaka_Coster-Waldau.txt',\n",
       " '3. /home/moinnadeem/Documents/UROP/wiki-pages/processed_pages/A_Second_Chance_-LRB-2014_film-RRB-.txt',\n",
       " '4. /home/moinnadeem/Documents/UROP/wiki-pages/processed_pages/A_Thousand_Times_Good_Night.txt',\n",
       " '5. /home/moinnadeem/Documents/UROP/wiki-pages/processed_pages/New_Amsterdam_-LRB-TV_series-RRB-.txt',\n",
       " '6. /home/moinnadeem/Documents/UROP/wiki-pages/processed_pages/The_Baker_-LRB-film-RRB-.txt',\n",
       " '7. /home/moinnadeem/Documents/UROP/wiki-pages/processed_pages/Nikolaj.txt',\n",
       " '8. /home/moinnadeem/Documents/UROP/wiki-pages/processed_pages/Nikolaj_Coster-Waldau.txt',\n",
       " '9. /home/moinnadeem/Documents/UROP/wiki-pages/processed_pages/Coster.txt',\n",
       " '10. /home/moinnadeem/Documents/UROP/wiki-pages/processed_pages/Klown_Forever.txt',\n",
       " '']"
      ]
     },
     "execution_count": 35,
     "metadata": {},
     "output_type": "execute_result"
    }
   ],
   "source": [
    "query_lucene(claims[0])"
   ]
  },
  {
   "cell_type": "code",
   "execution_count": 46,
   "metadata": {},
   "outputs": [
    {
     "data": {
      "text/plain": [
       "0.1"
      ]
     },
     "execution_count": 46,
     "metadata": {},
     "output_type": "execute_result"
    }
   ],
   "source": [
    "calculate_precision(retrieved, relevant, 10)"
   ]
  },
  {
   "cell_type": "code",
   "execution_count": 41,
   "metadata": {},
   "outputs": [
    {
     "data": {
      "text/plain": [
       "0.5"
      ]
     },
     "execution_count": 41,
     "metadata": {},
     "output_type": "execute_result"
    }
   ],
   "source": [
    "calculate_recall(retrieved, relevant, 10)"
   ]
  },
  {
   "cell_type": "markdown",
   "metadata": {},
   "source": [
    "## Applying Statistics to Dataset"
   ]
  },
  {
   "cell_type": "code",
   "execution_count": 67,
   "metadata": {},
   "outputs": [],
   "source": [
    "k = [1,2, 5,10]"
   ]
  },
  {
   "cell_type": "code",
   "execution_count": 68,
   "metadata": {},
   "outputs": [],
   "source": [
    "def score_claim(claim):\n",
    "    cleaned_claim = claim.replace(\"/\", \" \")\n",
    "    choices = query_lucene(cleaned_claim)\n",
    "    retrieved = process_lucene_output(choices)\n",
    "    relevant = claim_to_article[claim]\n",
    "    mAP = {}\n",
    "    for i in k:\n",
    "        precision = calculate_precision(retrieved=retrieved, relevant=relevant, k=i)\n",
    "        recall = calculate_recall(retrieved=retrieved, relevant=relevant, k=i)\n",
    "        mAP[i] = {}\n",
    "        mAP[i]['precision'] = precision\n",
    "        mAP[i]['recall'] = recall\n",
    "    return mAP"
   ]
  },
  {
   "cell_type": "code",
   "execution_count": 73,
   "metadata": {},
   "outputs": [
    {
     "name": "stderr",
     "output_type": "stream",
     "text": [
      "[Parallel(n_jobs=8)]: Using backend LokyBackend with 8 concurrent workers.\n",
      "[Parallel(n_jobs=8)]: Done  34 tasks      | elapsed:    6.1s\n",
      "[Parallel(n_jobs=8)]: Done 184 tasks      | elapsed:   24.2s\n",
      "[Parallel(n_jobs=8)]: Done 434 tasks      | elapsed:   54.6s\n",
      "[Parallel(n_jobs=8)]: Done 500 out of 500 | elapsed:  1.0min finished\n"
     ]
    }
   ],
   "source": [
    "result = Parallel(n_jobs=8, verbose=1)(delayed(score_claim)(k) for k in list(claim_to_article.keys())[:500])"
   ]
  },
  {
   "cell_type": "code",
   "execution_count": 79,
   "metadata": {},
   "outputs": [],
   "source": [
    "with open(\"result.pkl\", \"wb\") as f:\n",
    "    pickle.dump(result, f)"
   ]
  },
  {
   "cell_type": "code",
   "execution_count": 74,
   "metadata": {},
   "outputs": [],
   "source": [
    "def calculatemAP(mAP, k):\n",
    "    mAP_final = {}\n",
    "    \n",
    "    for i in k:\n",
    "        mAP_final[i] = {}\n",
    "        mAP_final[i]['precision'] = []\n",
    "        mAP_final[i]['recall'] = []\n",
    "        \n",
    "    for ap in mAP:\n",
    "        for k, v in ap.items():\n",
    "            mAP_final[k]['precision'].append(v['precision'])\n",
    "            mAP_final[k]['recall'].append(v['recall'])\n",
    "\n",
    "    return mAP_final\n",
    "\n",
    "def displaymAP(mAP):\n",
    "    for k, v in mAP.items():\n",
    "        for k_i, v_i in v.items():\n",
    "            print(\"{} @ {}: {}\".format(k_i, k, np.mean(v_i)))"
   ]
  },
  {
   "cell_type": "code",
   "execution_count": 83,
   "metadata": {},
   "outputs": [],
   "source": [
    "mAP = calculatemAP(result, k)"
   ]
  },
  {
   "cell_type": "code",
   "execution_count": 84,
   "metadata": {},
   "outputs": [
    {
     "name": "stdout",
     "output_type": "stream",
     "text": [
      "recall @ 1: 0.19014285714285714\n",
      "precision @ 1: 0.020200000000000003\n",
      "recall @ 2: 0.2778095238095238\n",
      "precision @ 2: 0.029600000000000005\n",
      "recall @ 10: 0.5027619047619047\n",
      "precision @ 10: 0.0542\n",
      "recall @ 5: 0.41695238095238096\n",
      "precision @ 5: 0.0446\n"
     ]
    }
   ],
   "source": [
    "displaymAP(mAP)"
   ]
  },
  {
   "cell_type": "code",
   "execution_count": null,
   "metadata": {},
   "outputs": [],
   "source": []
  }
 ],
 "metadata": {
  "kernelspec": {
   "display_name": "Python 3",
   "language": "python",
   "name": "python3"
  },
  "language_info": {
   "codemirror_mode": {
    "name": "ipython",
    "version": 3
   },
   "file_extension": ".py",
   "mimetype": "text/x-python",
   "name": "python",
   "nbconvert_exporter": "python",
   "pygments_lexer": "ipython3",
   "version": "3.5.2"
  }
 },
 "nbformat": 4,
 "nbformat_minor": 2
}
