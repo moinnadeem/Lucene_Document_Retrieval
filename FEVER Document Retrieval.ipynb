{
 "cells": [
  {
   "cell_type": "markdown",
   "metadata": {},
   "source": [
    "# FEVER Document Retrieval"
   ]
  },
  {
   "cell_type": "markdown",
   "metadata": {},
   "source": [
    "**Purpose**: the purpose of this notebook is to develop a baseline approach for scoring document retrieval on the FEVER dataset with Apache Lucene.\n",
    "\n",
    "**Input**: This document requires the Lucene index, and JSON files to run."
   ]
  },
  {
   "cell_type": "markdown",
   "metadata": {},
   "source": [
    "## Setting up Lucene Query"
   ]
  },
  {
   "cell_type": "code",
   "execution_count": 87,
   "metadata": {},
   "outputs": [],
   "source": [
    "import utils\n",
    "import pickle\n",
    "import pandas as pd\n",
    "from tqdm import tqdm_notebook\n",
    "from joblib import Parallel, delayed\n",
    "from multiprocessing import cpu_count\n",
    "import numpy as np\n",
    "import seaborn as sns"
   ]
  },
  {
   "cell_type": "code",
   "execution_count": 2,
   "metadata": {},
   "outputs": [
    {
     "name": "stdout",
     "output_type": "stream",
     "text": [
      "Num Distinct Claims 109810\n",
      "Num Data Points 125051\n"
     ]
    }
   ],
   "source": [
    "claims, labels, article_list, claim_set, claim_to_article = utils.extract_fever_jsonl_data(\"../train.jsonl\")"
   ]
  },
  {
   "cell_type": "markdown",
   "metadata": {},
   "source": [
    "## Exploring Dataset"
   ]
  },
  {
   "cell_type": "markdown",
   "metadata": {},
   "source": [
    "In this section, we explore the dataset. In particular, we want to know how many pieces of evidence any given document has."
   ]
  },
  {
   "cell_type": "code",
   "execution_count": 9,
   "metadata": {},
   "outputs": [],
   "source": [
    "evidences = [len(v) for v in claim_to_article.values()]"
   ]
  },
  {
   "cell_type": "code",
   "execution_count": 86,
   "metadata": {},
   "outputs": [
    {
     "name": "stdout",
     "output_type": "stream",
     "text": [
      "Average evidence length: 1.2224905173425096\n",
      "Standard deviation: 0.7813579581892875\n"
     ]
    }
   ],
   "source": [
    "print(\"Average evidence length: {}\".format(np.mean(evidences)))\n",
    "print(\"Standard deviation: {}\".format(np.std(evidences)))"
   ]
  },
  {
   "cell_type": "code",
   "execution_count": 10,
   "metadata": {},
   "outputs": [
    {
     "name": "stderr",
     "output_type": "stream",
     "text": [
      "/home/moinnadeem/.local/lib/python3.5/site-packages/scipy/stats/stats.py:1713: FutureWarning: Using a non-tuple sequence for multidimensional indexing is deprecated; use `arr[tuple(seq)]` instead of `arr[seq]`. In the future this will be interpreted as an array index, `arr[np.array(seq)]`, which will result either in an error or a different result.\n",
      "  return np.add.reduce(sorted[indexer] * weights, axis=axis) / sumval\n"
     ]
    },
    {
     "data": {
      "text/plain": [
       "<matplotlib.axes._subplots.AxesSubplot at 0x7fd6eed15b00>"
      ]
     },
     "execution_count": 10,
     "metadata": {},
     "output_type": "execute_result"
    },
    {
     "data": {
      "image/png": "[encoded data removed]",
      "text/plain": [
       "<Figure size 432x288 with 1 Axes>"
      ]
     },
     "metadata": {},
     "output_type": "display_data"
    }
   ],
   "source": [
    "sns.distplot(evidences)"
   ]
  },
  {
   "cell_type": "markdown",
   "metadata": {},
   "source": [
    "## Applying Statistics to Dataset"
   ]
  },
  {
   "cell_type": "markdown",
   "metadata": {},
   "source": [
    "We calculate the Precision, Recall at one of (1,2,5,10)."
   ]
  },
  {
   "cell_type": "code",
   "execution_count": 12,
   "metadata": {},
   "outputs": [],
   "source": [
    "k = [1, 2, 5, 10, 20, 50, 100, 200, 300, 400]"
   ]
  },
  {
   "cell_type": "code",
   "execution_count": 13,
   "metadata": {},
   "outputs": [],
   "source": [
    "def score_claim(claim):\n",
    "    cleaned_claim = claim.replace(\"/\", \" \")\n",
    "    choices = utils.query_lucene(cleaned_claim, str(max(k)))\n",
    "    retrieved = utils.process_lucene_output(choices)\n",
    "    relevant = claim_to_article[claim]\n",
    "    mAP = {}\n",
    "    for i in k:\n",
    "        precision = utils.calculate_precision(retrieved=retrieved, relevant=relevant, k=i)\n",
    "        recall = utils.calculate_recall(retrieved=retrieved, relevant=relevant, k=i)\n",
    "        mAP[i] = {}\n",
    "        mAP[i]['precision'] = precision\n",
    "        mAP[i]['recall'] = recall\n",
    "    return mAP"
   ]
  },
  {
   "cell_type": "markdown",
   "metadata": {},
   "source": [
    "We run this on the CSAIL cluster, and cache the results in a `result.pkl` file. We load this file into the notebook for the purpose of documentation."
   ]
  },
  {
   "cell_type": "code",
   "execution_count": 90,
   "metadata": {},
   "outputs": [],
   "source": [
    "loadCached = True"
   ]
  },
  {
   "cell_type": "code",
   "execution_count": 91,
   "metadata": {},
   "outputs": [],
   "source": [
    "if not loadCached:\n",
    "    result = Parallel(n_jobs=8, verbose=1)(delayed(score_claim)(c) for c in list(claim_to_article.keys())[:10000])\n",
    "    with open(\"result.pkl\", \"wb\") as f:\n",
    "        pickle.dump(result, f)\n",
    "else:\n",
    "    with open(\"result.pkl\", \"rb\") as f:\n",
    "        result = pickle.load(f)"
   ]
  },
  {
   "cell_type": "code",
   "execution_count": 93,
   "metadata": {},
   "outputs": [],
   "source": [
    "def calculatemAP(mAP, k):\n",
    "    mAP_final = {}\n",
    "    \n",
    "    for i in k:\n",
    "        mAP_final[i] = {}\n",
    "        mAP_final[i]['precision'] = []\n",
    "        mAP_final[i]['recall'] = []\n",
    "        \n",
    "    for ap in mAP:\n",
    "        for k, v in ap.items():\n",
    "            mAP_final[k]['precision'].append(v['precision'])\n",
    "            mAP_final[k]['recall'].append(v['recall'])\n",
    "    \n",
    "    return mAP_final\n",
    "\n",
    "def displaymAP(mAP):\n",
    "    for k in sorted(mAP.keys()):\n",
    "        for k_i, v_i in mAP[k].items():\n",
    "            print(\"{} @ {}: {}\".format(k_i, k, np.mean(v_i)))\n",
    "        print()\n",
    "            \n",
    "def calculate_precision_recall(mAP):\n",
    "    precision = np.zeros((len(mAP), 2))\n",
    "    recall = np.zeros((len(mAP), 2))\n",
    "    for idx, k in enumerate(mAP.keys()):\n",
    "        precision[idx, 0] = k\n",
    "        precision[idx, 1] = np.mean(mAP[k]['precision'])\n",
    "        \n",
    "        recall[idx, 0] = k\n",
    "        recall[idx, 1] = np.mean(mAP[k]['recall'])\n",
    "        \n",
    "    return precision, recall"
   ]
  },
  {
   "cell_type": "code",
   "execution_count": 94,
   "metadata": {},
   "outputs": [],
   "source": [
    "mAP = calculatemAP(result, k)"
   ]
  },
  {
   "cell_type": "markdown",
   "metadata": {},
   "source": [
    "## Understanding our Precision, Recall"
   ]
  },
  {
   "cell_type": "markdown",
   "metadata": {},
   "source": [
    "How is our accuracy on our documents?"
   ]
  },
  {
   "cell_type": "code",
   "execution_count": 95,
   "metadata": {},
   "outputs": [],
   "source": [
    "data = pd.DataFrame(data=np.vstack([precision[:,1], recall[:,1]]).T, index=precision[:,0], columns=[\"Precision\", \"Recall\"]).sort_index()"
   ]
  },
  {
   "cell_type": "code",
   "execution_count": 96,
   "metadata": {},
   "outputs": [
    {
     "data": {
      "text/html": [
       "<div>\n",
       "<style scoped>\n",
       "    .dataframe tbody tr th:only-of-type {\n",
       "        vertical-align: middle;\n",
       "    }\n",
       "\n",
       "    .dataframe tbody tr th {\n",
       "        vertical-align: top;\n",
       "    }\n",
       "\n",
       "    .dataframe thead th {\n",
       "        text-align: right;\n",
       "    }\n",
       "</style>\n",
       "<table border=\"1\" class=\"dataframe\">\n",
       "  <thead>\n",
       "    <tr style=\"text-align: right;\">\n",
       "      <th></th>\n",
       "      <th>Precision</th>\n",
       "      <th>Recall</th>\n",
       "    </tr>\n",
       "  </thead>\n",
       "  <tbody>\n",
       "    <tr>\n",
       "      <th>1.0</th>\n",
       "      <td>0.000578</td>\n",
       "      <td>0.215833</td>\n",
       "    </tr>\n",
       "    <tr>\n",
       "      <th>2.0</th>\n",
       "      <td>0.000818</td>\n",
       "      <td>0.305083</td>\n",
       "    </tr>\n",
       "    <tr>\n",
       "      <th>5.0</th>\n",
       "      <td>0.001123</td>\n",
       "      <td>0.414750</td>\n",
       "    </tr>\n",
       "    <tr>\n",
       "      <th>10.0</th>\n",
       "      <td>0.001358</td>\n",
       "      <td>0.497583</td>\n",
       "    </tr>\n",
       "    <tr>\n",
       "      <th>20.0</th>\n",
       "      <td>0.001588</td>\n",
       "      <td>0.579750</td>\n",
       "    </tr>\n",
       "    <tr>\n",
       "      <th>50.0</th>\n",
       "      <td>0.001895</td>\n",
       "      <td>0.686626</td>\n",
       "    </tr>\n",
       "    <tr>\n",
       "      <th>100.0</th>\n",
       "      <td>0.002168</td>\n",
       "      <td>0.785126</td>\n",
       "    </tr>\n",
       "    <tr>\n",
       "      <th>200.0</th>\n",
       "      <td>0.002343</td>\n",
       "      <td>0.849626</td>\n",
       "    </tr>\n",
       "    <tr>\n",
       "      <th>300.0</th>\n",
       "      <td>0.002453</td>\n",
       "      <td>0.887293</td>\n",
       "    </tr>\n",
       "    <tr>\n",
       "      <th>400.0</th>\n",
       "      <td>0.002506</td>\n",
       "      <td>0.902826</td>\n",
       "    </tr>\n",
       "  </tbody>\n",
       "</table>\n",
       "</div>"
      ],
      "text/plain": [
       "       Precision    Recall\n",
       "1.0     0.000578  0.215833\n",
       "2.0     0.000818  0.305083\n",
       "5.0     0.001123  0.414750\n",
       "10.0    0.001358  0.497583\n",
       "20.0    0.001588  0.579750\n",
       "50.0    0.001895  0.686626\n",
       "100.0   0.002168  0.785126\n",
       "200.0   0.002343  0.849626\n",
       "300.0   0.002453  0.887293\n",
       "400.0   0.002506  0.902826"
      ]
     },
     "execution_count": 96,
     "metadata": {},
     "output_type": "execute_result"
    }
   ],
   "source": [
    "data"
   ]
  },
  {
   "cell_type": "markdown",
   "metadata": {},
   "source": [
    "How many documents are we dealing with?"
   ]
  },
  {
   "cell_type": "code",
   "execution_count": 97,
   "metadata": {},
   "outputs": [
    {
     "name": "stdout",
     "output_type": "stream",
     "text": [
      "5415460\r\n"
     ]
    }
   ],
   "source": [
    "!ls ../wiki-pages/processed_pages/ | wc -l"
   ]
  },
  {
   "cell_type": "code",
   "execution_count": 32,
   "metadata": {},
   "outputs": [],
   "source": [
    "precision, recall = calculate_precision_recall(mAP)"
   ]
  },
  {
   "cell_type": "code",
   "execution_count": 41,
   "metadata": {},
   "outputs": [
    {
     "data": {
      "text/plain": [
       "<matplotlib.axes._subplots.AxesSubplot at 0x7fd727f3ada0>"
      ]
     },
     "execution_count": 41,
     "metadata": {},
     "output_type": "execute_result"
    },
    {
     "data": {
      "image/png": "[encoded data removed]",
      "text/plain": [
       "<Figure size 432x288 with 1 Axes>"
      ]
     },
     "metadata": {},
     "output_type": "display_data"
    }
   ],
   "source": [
    "ax = sns.regplot(precision[:,0], precision[:,1], fit_reg=False)\n",
    "ax.set(xlabel=\"# of documents retrieved\", ylabel=\"precision @ k\")\n",
    "ax"
   ]
  },
  {
   "cell_type": "code",
   "execution_count": 40,
   "metadata": {},
   "outputs": [
    {
     "data": {
      "text/plain": [
       "<matplotlib.axes._subplots.AxesSubplot at 0x7fd7227e66a0>"
      ]
     },
     "execution_count": 40,
     "metadata": {},
     "output_type": "execute_result"
    },
    {
     "data": {
      "image/png": "[encoded data removed]",
      "text/plain": [
       "<Figure size 432x288 with 1 Axes>"
      ]
     },
     "metadata": {},
     "output_type": "display_data"
    }
   ],
   "source": [
    "ax = sns.regplot(recall[:,0], recall[:,1], fit_reg=False)\n",
    "ax.set(xlabel=\"# of documents retrieved\", ylabel=\"recall @ k\")\n",
    "ax"
   ]
  },
  {
   "cell_type": "markdown",
   "metadata": {},
   "source": [
    "## Evaluating results"
   ]
  },
  {
   "cell_type": "markdown",
   "metadata": {},
   "source": [
    "In this section, we just look at a few of the relevant / retrieved results in order to better understand the lookup."
   ]
  },
  {
   "cell_type": "code",
   "execution_count": 23,
   "metadata": {},
   "outputs": [],
   "source": [
    "from IPython.display import Markdown, display\n",
    "def printmd(string):\n",
    "    display(Markdown(string))"
   ]
  },
  {
   "cell_type": "code",
   "execution_count": 98,
   "metadata": {
    "scrolled": false
   },
   "outputs": [
    {
     "data": {
      "text/markdown": [
       "Claim: **Interstellar has yet to premiere.**"
      ],
      "text/plain": [
       "<IPython.core.display.Markdown object>"
      ]
     },
     "metadata": {},
     "output_type": "display_data"
    },
    {
     "name": "stdout",
     "output_type": "stream",
     "text": [
      "Retrieved 10 documents.\n",
      "\n",
      "Relevant Documents:\n",
      "interstellar  film \n",
      "interstellar  film \n",
      "\n",
      "Retrieved Documents:\n",
      "interstellar comet\n",
      "propynylidyne\n",
      "memories of matsuko\n",
      "action dad\n",
      "nitrogen monohydride\n",
      "interstellar alliance\n",
      "local interstellar cloud\n",
      "g292 0 01 8\n",
      "helium hydride ion\n",
      "interstellar ark\n",
      "\n"
     ]
    },
    {
     "data": {
      "text/markdown": [
       "Claim: **Malcolm Young co-founded AC/DC in Australia.**"
      ],
      "text/plain": [
       "<IPython.core.display.Markdown object>"
      ]
     },
     "metadata": {},
     "output_type": "display_data"
    },
    {
     "name": "stdout",
     "output_type": "stream",
     "text": [
      "Retrieved 10 documents.\n",
      "\n",
      "Relevant Documents:\n",
      "malcolm young\n",
      "ac dc\n",
      "\n",
      "Retrieved Documents:\n",
      "stiff upper lip  album \n",
      "powerage\n",
      "ballbreaker\n",
      "tales of old grand daddy\n",
      "fly on the wall  ac dc album \n",
      "stevie young\n",
      "flick of the switch  song \n",
      "if you want blood you ve got it\n",
      "danger  ac dc song \n",
      "gretsch g6131\n",
      "\n"
     ]
    },
    {
     "data": {
      "text/markdown": [
       "Claim: **Man of Steel began principal photography in East Los Angeles.**"
      ],
      "text/plain": [
       "<IPython.core.display.Markdown object>"
      ]
     },
     "metadata": {},
     "output_type": "display_data"
    },
    {
     "name": "stdout",
     "output_type": "stream",
     "text": [
      "Retrieved 10 documents.\n",
      "\n",
      "Relevant Documents:\n",
      "man of steel  film \n",
      "\n",
      "Retrieved Documents:\n",
      "the bachelors  film \n",
      "dude  film \n",
      "the babysitter  2017 film \n",
      "marshall  film \n",
      "the meddler\n",
      "scouts guide to the zombie apocalypse\n",
      "the bad batch\n",
      "the house  2017 film \n",
      "all nighter  film \n",
      "national metal and steel\n",
      "\n"
     ]
    }
   ],
   "source": [
    "for claim in list(claim_to_article.keys())[:3]:\n",
    "    cleaned_claim = claim.replace(\"/\", \" \")\n",
    "    choices = utils.query_lucene(cleaned_claim, \"10\")\n",
    "    retrieved = utils.process_lucene_output(choices)\n",
    "    relevant = claim_to_article[claim]\n",
    "    printmd(\"Claim: **{}**\".format(claim))\n",
    "    print(\"Retrieved {} documents.\".format(len(retrieved)))\n",
    "    print()\n",
    "    \n",
    "    print(\"Relevant Documents:\")\n",
    "    for r in relevant:\n",
    "        print(r)\n",
    "    print()\n",
    "    \n",
    "    print(\"Retrieved Documents:\")\n",
    "    for r in retrieved:\n",
    "        if r in relevant:\n",
    "            printmd(\"*{}*\".format(r))\n",
    "        else:\n",
    "            print(r)\n",
    "    print()"
   ]
  },
  {
   "cell_type": "code",
   "execution_count": null,
   "metadata": {},
   "outputs": [],
   "source": []
  }
 ],
 "metadata": {
  "kernelspec": {
   "display_name": "Python 3",
   "language": "python",
   "name": "python3"
  },
  "language_info": {
   "codemirror_mode": {
    "name": "ipython",
    "version": 3
   },
   "file_extension": ".py",
   "mimetype": "text/x-python",
   "name": "python",
   "nbconvert_exporter": "python",
   "pygments_lexer": "ipython3",
   "version": "3.5.2"
  }
 },
 "nbformat": 4,
 "nbformat_minor": 2
}
